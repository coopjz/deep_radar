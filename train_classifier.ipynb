{
 "cells": [
  {
   "cell_type": "markdown",
   "metadata": {},
   "source": [
    "Train a armor classifier"
   ]
  },
  {
   "cell_type": "code",
   "execution_count": 2,
   "metadata": {},
   "outputs": [
    {
     "name": "stdout",
     "output_type": "stream",
     "text": [
      "(132, 146)\n",
      "(324, 250)\n",
      "(264, 264)\n",
      "(317, 326)\n",
      "(309, 320)\n",
      "(281, 307)\n",
      "(133, 140)\n",
      "(156, 154)\n"
     ]
    }
   ],
   "source": [
    "#check image size\n",
    "from PIL import Image\n",
    "import os, sys\n",
    "from os import listdir\n",
    "path = '/home/cooper/Documents/RM2023-Deep-Radar/dataset/armor_dataset_v4/images/'\n",
    "\n"
   ]
  },
  {
   "cell_type": "code",
   "execution_count": 3,
   "metadata": {},
   "outputs": [
    {
     "name": "stdout",
     "output_type": "stream",
     "text": [
      "\u001b[34m\u001b[1mtrain: \u001b[0mweights=armor.pt, cfg=, data=combined.yaml, hyp=data/hyps/hyp.scratch-low.yaml, epochs=10, batch_size=16, imgsz=660, rect=False, resume=False, nosave=False, noval=False, noautoanchor=False, noplots=False, evolve=None, bucket=, cache=ram, image_weights=False, device=, multi_scale=False, single_cls=False, optimizer=SGD, sync_bn=False, workers=8, project=runs/train, name=combined_armor_car, exist_ok=False, quad=False, cos_lr=False, label_smoothing=0.0, patience=100, freeze=[0], save_period=-1, seed=0, local_rank=-1, entity=None, upload_dataset=False, bbox_interval=-1, artifact_alias=latest\n",
      "\u001b[34m\u001b[1mgithub: \u001b[0mskipping check (not a git repository), for updates see https://github.com/ultralytics/yolov5\n",
      "YOLOv5 🚀 2023-11-24 Python-3.9.7 torch-1.13.1 CUDA:0 (NVIDIA GeForce RTX 3060 Laptop GPU, 5720MiB)\n",
      "\n",
      "\u001b[34m\u001b[1mhyperparameters: \u001b[0mlr0=0.01, lrf=0.01, momentum=0.937, weight_decay=0.0005, warmup_epochs=3.0, warmup_momentum=0.8, warmup_bias_lr=0.1, box=0.05, cls=0.5, cls_pw=1.0, obj=1.0, obj_pw=1.0, iou_t=0.2, anchor_t=4.0, fl_gamma=0.0, hsv_h=0.015, hsv_s=0.7, hsv_v=0.4, degrees=0.0, translate=0.1, scale=0.5, shear=0.0, perspective=0.0, flipud=0.0, fliplr=0.5, mosaic=1.0, mixup=0.0, copy_paste=0.0\n",
      "\u001b[34m\u001b[1mTensorBoard: \u001b[0mStart with 'tensorboard --logdir runs/train', view at http://localhost:6006/\n",
      "\u001b[1;38;5;39mCOMET INFO:\u001b[0m Experiment is live on comet.com \u001b[38;5;39mhttps://www.comet.com/coopjz/yolov5/3fab5e5f44854587b0ddd1e1b60f176b\u001b[0m\n",
      "\n",
      "Overriding model.yaml nc=12 with nc=13\n",
      "\n",
      "                 from  n    params  module                                  arguments                     \n",
      "  0                -1  1      3520  models.common.Conv                      [3, 32, 6, 2, 2]              \n",
      "  1                -1  1     18560  models.common.Conv                      [32, 64, 3, 2]                \n",
      "  2                -1  1     18816  models.common.C3                        [64, 64, 1]                   \n",
      "  3                -1  1     73984  models.common.Conv                      [64, 128, 3, 2]               \n",
      "  4                -1  2    115712  models.common.C3                        [128, 128, 2]                 \n",
      "  5                -1  1    295424  models.common.Conv                      [128, 256, 3, 2]              \n",
      "  6                -1  3    625152  models.common.C3                        [256, 256, 3]                 \n",
      "  7                -1  1   1180672  models.common.Conv                      [256, 512, 3, 2]              \n",
      "  8                -1  1   1182720  models.common.C3                        [512, 512, 1]                 \n",
      "  9                -1  1    656896  models.common.SPPF                      [512, 512, 5]                 \n",
      " 10                -1  1    131584  models.common.Conv                      [512, 256, 1, 1]              \n",
      " 11                -1  1         0  torch.nn.modules.upsampling.Upsample    [None, 2, 'nearest']          \n",
      " 12           [-1, 6]  1         0  models.common.Concat                    [1]                           \n",
      " 13                -1  1    361984  models.common.C3                        [512, 256, 1, False]          \n",
      " 14                -1  1     33024  models.common.Conv                      [256, 128, 1, 1]              \n",
      " 15                -1  1         0  torch.nn.modules.upsampling.Upsample    [None, 2, 'nearest']          \n",
      " 16           [-1, 4]  1         0  models.common.Concat                    [1]                           \n",
      " 17                -1  1     90880  models.common.C3                        [256, 128, 1, False]          \n",
      " 18                -1  1    147712  models.common.Conv                      [128, 128, 3, 2]              \n",
      " 19          [-1, 14]  1         0  models.common.Concat                    [1]                           \n",
      " 20                -1  1    296448  models.common.C3                        [256, 256, 1, False]          \n",
      " 21                -1  1    590336  models.common.Conv                      [256, 256, 3, 2]              \n",
      " 22          [-1, 10]  1         0  models.common.Concat                    [1]                           \n",
      " 23                -1  1   1182720  models.common.C3                        [512, 512, 1, False]          \n",
      " 24      [17, 20, 23]  1     48546  models.yolo.Detect                      [13, [[10, 13, 16, 30, 33, 23], [30, 61, 62, 45, 59, 119], [116, 90, 156, 198, 373, 326]], [128, 256, 512]]\n",
      "Model summary: 214 layers, 7054690 parameters, 7054690 gradients, 16.0 GFLOPs\n",
      "\n",
      "Transferred 343/349 items from armor.pt\n",
      "\u001b[34m\u001b[1mAMP: \u001b[0mchecks passed ✅\n",
      "WARNING ⚠️ --img-size 660 must be multiple of max stride 32, updating to 672\n",
      "\u001b[34m\u001b[1moptimizer:\u001b[0m SGD(lr=0.01) with parameter groups 57 weight(decay=0.0), 60 weight(decay=0.0005), 60 bias\n",
      "\u001b[34m\u001b[1malbumentations: \u001b[0mBlur(p=0.01, blur_limit=(3, 7)), MedianBlur(p=0.01, blur_limit=(3, 7)), ToGray(p=0.01), CLAHE(p=0.01, clip_limit=(1, 4.0), tile_grid_size=(8, 8))\n",
      "\u001b[34m\u001b[1mtrain: \u001b[0mScanning /home/cooper/Documents/RM2023-Deep-Radar/dataset/combined/train/labels... 66898 images, 633 backgrounds, 0 corrupt: 100%|██████████| 66898/66898 [00:11<00:00, 5616.78it/s]\n",
      "\u001b[34m\u001b[1mtrain: \u001b[0mNew cache created: /home/cooper/Documents/RM2023-Deep-Radar/dataset/combined/train/labels.cache\n",
      "\u001b[34m\u001b[1mtrain: \u001b[0m74.6GB RAM required, 23.4/31.2GB available, not caching images ⚠️\n",
      "\u001b[34m\u001b[1mval: \u001b[0mScanning /home/cooper/Documents/RM2023-Deep-Radar/dataset/combined/val/labels... 8361 images, 75 backgrounds, 0 corrupt: 100%|██████████| 8361/8361 [00:02<00:00, 3294.98it/s]\n",
      "\u001b[34m\u001b[1mval: \u001b[0mNew cache created: /home/cooper/Documents/RM2023-Deep-Radar/dataset/combined/val/labels.cache\n",
      "\u001b[34m\u001b[1mval: \u001b[0mCaching images (9.0GB ram): 100%|██████████| 8361/8361 [00:10<00:00, 808.57it/s] \n",
      "\n",
      "\u001b[34m\u001b[1mAutoAnchor: \u001b[0m4.78 anchors/target, 1.000 Best Possible Recall (BPR). Current anchors are a good fit to dataset ✅\n",
      "Plotting labels to runs/train/combined_armor_car3/labels.jpg... \n",
      "Image sizes 672 train, 672 val\n",
      "Using 8 dataloader workers\n",
      "Logging results to \u001b[1mruns/train/combined_armor_car3\u001b[0m\n",
      "Starting training for 10 epochs...\n",
      "\n",
      "      Epoch    GPU_mem   box_loss   obj_loss   cls_loss  Instances       Size\n",
      "        0/9      3.71G     0.0791    0.03892    0.03571         67        672:  30%|███       | 1268/4182 [05:43<16:51,  2.88it/s]"
     ]
    }
   ],
   "source": [
    "import os\n",
    "os.chdir('/home/cooper/Documents/RM2023-Deep-Radar/yolov5')\n",
    "!python train.py --imgsz 660 --epochs 10 --data combined.yaml --weights armor.pt --batch 16 --name combined_armor_car --cache"
   ]
  },
  {
   "cell_type": "code",
   "execution_count": 8,
   "metadata": {},
   "outputs": [
    {
     "name": "stdout",
     "output_type": "stream",
     "text": [
      "\u001b[34m\u001b[1mdetect: \u001b[0mweights=['runs/train/car_30011/weights/best.pt'], source=/home/cooper/Documents/RM2023-Deep-Radar/dataset/field_dataset/images/000769.jpg, data=data/coco128.yaml, imgsz=[660, 660], conf_thres=0.1, iou_thres=0.45, max_det=1000, device=, view_img=False, save_txt=False, save_csv=False, save_conf=False, save_crop=False, nosave=False, classes=None, agnostic_nms=False, augment=False, visualize=False, update=False, project=runs/detect, name=exp, exist_ok=False, line_thickness=3, hide_labels=False, hide_conf=False, half=False, dnn=False, vid_stride=1\n",
      "YOLOv5 🚀 2023-11-24 Python-3.9.7 torch-1.13.1 CUDA:0 (NVIDIA GeForce RTX 3060 Laptop GPU, 5720MiB)\n",
      "\n",
      "Fusing layers... \n",
      "Model summary: 157 layers, 7012822 parameters, 0 gradients, 15.8 GFLOPs\n",
      "WARNING ⚠️ --img-size [660, 660] must be multiple of max stride 32, updating to [672, 672]\n",
      "image 1/1 /home/cooper/Documents/RM2023-Deep-Radar/dataset/field_dataset/images/000769.jpg: 384x672 4 cars, 9.6ms\n",
      "Speed: 0.4ms pre-process, 9.6ms inference, 1.5ms NMS per image at shape (1, 3, 672, 672)\n",
      "Results saved to \u001b[1mruns/detect/exp12\u001b[0m\n"
     ]
    }
   ],
   "source": [
    "import os\n",
    "os.chdir('/home/cooper/Documents/RM2023-Deep-Radar/yolov5')\n",
    "!python detect.py --weights runs/train/car_30011/weights/best.pt --img 660 --conf 0.1 --source /home/cooper/Documents/RM2023-Deep-Radar/dataset/field_dataset/images/000769.jpg"
   ]
  }
 ],
 "metadata": {
  "kernelspec": {
   "display_name": "radar",
   "language": "python",
   "name": "python3"
  },
  "language_info": {
   "codemirror_mode": {
    "name": "ipython",
    "version": 3
   },
   "file_extension": ".py",
   "mimetype": "text/x-python",
   "name": "python",
   "nbconvert_exporter": "python",
   "pygments_lexer": "ipython3",
   "version": "3.9.7"
  }
 },
 "nbformat": 4,
 "nbformat_minor": 2
}
