{
 "cells": [
  {
   "cell_type": "code",
   "execution_count": 11,
   "metadata": {},
   "outputs": [
    {
     "name": "stderr",
     "output_type": "stream",
     "text": [
      "Fusing layers... \n",
      "Model summary: 157 layers, 7012822 parameters, 0 gradients, 15.8 GFLOPs\n"
     ]
    },
    {
     "name": "stdout",
     "output_type": "stream",
     "text": [
      "[tensor([[353.42307, 422.23163, 398.92551, 466.54822,   0.90205,   0.00000],\n",
      "        [512.92743, 324.06097, 530.24261, 342.87518,   0.84166,   0.00000],\n",
      "        [545.55231, 322.57095, 569.51788, 343.72598,   0.83338,   0.00000],\n",
      "        [263.05176, 377.15842, 300.95032, 410.15683,   0.82773,   0.00000],\n",
      "        [326.64935, 323.19794, 349.75293, 347.59442,   0.73647,   0.00000]], device='cuda:0')]\n"
     ]
    }
   ],
   "source": [
    "from radar_class.armor_predictor import YoloV5\n",
    "import cv2\n",
    "import torch\n",
    "from yolov5.models.common import DetectMultiBackend\n",
    "from yolov5.utils.augmentations import (Albumentations, augment_hsv, classify_albumentations, classify_transforms, copy_paste,\n",
    "                                        letterbox, mixup, random_perspective)\n",
    "import numpy as np\n",
    "from yolov5.utils.general import (LOGGER, Profile, check_file, check_img_size, check_imshow, colorstr, cv2,\n",
    "                                  increment_path, non_max_suppression, print_args, scale_boxes, strip_optimizer, xyxy2xywh)\n",
    "# net = YoloV5()\n",
    "net =  DetectMultiBackend(\"/home/cooper/Documents/RM2023-Deep-Radar/yolov5/runs/train/car_30011/weights/best.pt\",\n",
    "                                        device=torch.device(\n",
    "            \"cuda\" if torch.cuda.is_available() else \"cpu\"), data='yolov5/data/car.yaml')\n",
    "img= cv2.imread('/home/cooper/Documents/RM2023-Deep-Radar/dataset/combined/test/images/field_000405.jpg')\n",
    "#show image\n",
    "img = letterbox(img, [640, 640], stride=32, auto=False)[\n",
    "                0]  # padded resize\n",
    "img = img.transpose((2, 0, 1))[::-1]  # HWC to CHW, BGR to RGB\n",
    "img = np.ascontiguousarray(img)  # contiguous\n",
    "img = torch.from_numpy(img).to(torch.device(\n",
    "            \"cuda\" if torch.cuda.is_available() else \"cpu\")).float()\n",
    "img = img / 255\n",
    "if len(img.shape) == 3:\n",
    "    img = img[None]  # expand for batch dim\n",
    "\n",
    "results= net(img)\n",
    "results = non_max_suppression(results, conf_thres=0.25, iou_thres=0.45)\n",
    "print(results)\n",
    "# print(location)"
   ]
  }
 ],
 "metadata": {
  "kernelspec": {
   "display_name": "radar",
   "language": "python",
   "name": "python3"
  },
  "language_info": {
   "codemirror_mode": {
    "name": "ipython",
    "version": 3
   },
   "file_extension": ".py",
   "mimetype": "text/x-python",
   "name": "python",
   "nbconvert_exporter": "python",
   "pygments_lexer": "ipython3",
   "version": "3.9.7"
  }
 },
 "nbformat": 4,
 "nbformat_minor": 2
}
