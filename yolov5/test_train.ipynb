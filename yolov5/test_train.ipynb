{
 "cells": [
  {
   "cell_type": "code",
   "execution_count": 2,
   "metadata": {},
   "outputs": [
    {
     "name": "stderr",
     "output_type": "stream",
     "text": [
      "YOLOv5 🚀 2023-11-16 Python-3.9.7 torch-1.13.1 CUDA:0 (NVIDIA GeForce RTX 3060 Laptop GPU, 5720MiB)\n",
      "\n",
      "Fusing layers... \n"
     ]
    },
    {
     "name": "stderr",
     "output_type": "stream",
     "text": [
      "Model summary: 157 layers, 7107217 parameters, 0 gradients, 16.1 GFLOPs\n",
      "Adding AutoShape... \n"
     ]
    },
    {
     "name": "stderr",
     "output_type": "stream",
     "text": [
      "Icon theme \"Numix\" not found.\n",
      "Icon theme \"Numix\" not found.\n"
     ]
    }
   ],
   "source": [
    "import cv2\n",
    "import torch\n",
    "from PIL import Image\n",
    "\n",
    "# Model\n",
    "model = torch.hub.load('/home/cooper/Documents/RM2023-Deep-Radar/yolov5', 'custom',\n",
    "                       path='/home/cooper/Documents/RM2023-Deep-Radar/yolov5/runs/train/exp14/weights/best.pt', source='local')  # local repo\n",
    "\n",
    "# Images\n",
    "\n",
    "im1 = Image.open(\n",
    "    '/home/cooper/Documents/RM2023-Deep-Radar/dataset/field_dataset/images/002854.jpg')  # PIL image\n",
    "# im2 = cv2.imread('bus.jpg')[..., ::-1]  # OpenCV image (BGR to RGB)\n",
    "\n",
    "# show image\n",
    "im1.show()\n"
   ]
  },
  {
   "cell_type": "code",
   "execution_count": 3,
   "metadata": {},
   "outputs": [
    {
     "name": "stderr",
     "output_type": "stream",
     "text": [
      "image 1/1: 2160x3840 1 B1, 1 B3, 1 R1, 1 R3, 2 R4s, 1 R5\n",
      "Speed: 46.9ms pre-process, 91.0ms inference, 5.2ms NMS per image at shape (1, 3, 2176, 3840)\n",
      "Saved 1 image to \u001b[1mruns/detect/exp3\u001b[0m\n"
     ]
    },
    {
     "data": {
      "text/html": [
       "<div>\n",
       "<style scoped>\n",
       "    .dataframe tbody tr th:only-of-type {\n",
       "        vertical-align: middle;\n",
       "    }\n",
       "\n",
       "    .dataframe tbody tr th {\n",
       "        vertical-align: top;\n",
       "    }\n",
       "\n",
       "    .dataframe thead th {\n",
       "        text-align: right;\n",
       "    }\n",
       "</style>\n",
       "<table border=\"1\" class=\"dataframe\">\n",
       "  <thead>\n",
       "    <tr style=\"text-align: right;\">\n",
       "      <th></th>\n",
       "      <th>xmin</th>\n",
       "      <th>ymin</th>\n",
       "      <th>xmax</th>\n",
       "      <th>ymax</th>\n",
       "      <th>confidence</th>\n",
       "      <th>class</th>\n",
       "      <th>name</th>\n",
       "    </tr>\n",
       "  </thead>\n",
       "  <tbody>\n",
       "    <tr>\n",
       "      <th>0</th>\n",
       "      <td>3004.056885</td>\n",
       "      <td>1688.560425</td>\n",
       "      <td>3078.291260</td>\n",
       "      <td>1716.667603</td>\n",
       "      <td>0.427882</td>\n",
       "      <td>13</td>\n",
       "      <td>R4</td>\n",
       "    </tr>\n",
       "    <tr>\n",
       "      <th>1</th>\n",
       "      <td>3004.297363</td>\n",
       "      <td>1447.167480</td>\n",
       "      <td>3035.517578</td>\n",
       "      <td>1465.097656</td>\n",
       "      <td>0.341654</td>\n",
       "      <td>14</td>\n",
       "      <td>R5</td>\n",
       "    </tr>\n",
       "    <tr>\n",
       "      <th>2</th>\n",
       "      <td>3670.898193</td>\n",
       "      <td>1267.137939</td>\n",
       "      <td>3707.623291</td>\n",
       "      <td>1292.515625</td>\n",
       "      <td>0.341126</td>\n",
       "      <td>13</td>\n",
       "      <td>R4</td>\n",
       "    </tr>\n",
       "    <tr>\n",
       "      <th>3</th>\n",
       "      <td>3004.980469</td>\n",
       "      <td>1447.548706</td>\n",
       "      <td>3034.430664</td>\n",
       "      <td>1463.933472</td>\n",
       "      <td>0.328687</td>\n",
       "      <td>12</td>\n",
       "      <td>R3</td>\n",
       "    </tr>\n",
       "    <tr>\n",
       "      <th>4</th>\n",
       "      <td>3010.344238</td>\n",
       "      <td>1687.692139</td>\n",
       "      <td>3076.822266</td>\n",
       "      <td>1716.411133</td>\n",
       "      <td>0.326174</td>\n",
       "      <td>1</td>\n",
       "      <td>B1</td>\n",
       "    </tr>\n",
       "    <tr>\n",
       "      <th>5</th>\n",
       "      <td>2831.766113</td>\n",
       "      <td>1369.652100</td>\n",
       "      <td>2853.090820</td>\n",
       "      <td>1395.864746</td>\n",
       "      <td>0.267860</td>\n",
       "      <td>3</td>\n",
       "      <td>B3</td>\n",
       "    </tr>\n",
       "    <tr>\n",
       "      <th>6</th>\n",
       "      <td>3001.202881</td>\n",
       "      <td>1690.311279</td>\n",
       "      <td>3090.440186</td>\n",
       "      <td>1716.288818</td>\n",
       "      <td>0.261700</td>\n",
       "      <td>10</td>\n",
       "      <td>R1</td>\n",
       "    </tr>\n",
       "  </tbody>\n",
       "</table>\n",
       "</div>"
      ],
      "text/plain": [
       "          xmin         ymin         xmax         ymax  confidence  class name\n",
       "0  3004.056885  1688.560425  3078.291260  1716.667603    0.427882     13   R4\n",
       "1  3004.297363  1447.167480  3035.517578  1465.097656    0.341654     14   R5\n",
       "2  3670.898193  1267.137939  3707.623291  1292.515625    0.341126     13   R4\n",
       "3  3004.980469  1447.548706  3034.430664  1463.933472    0.328687     12   R3\n",
       "4  3010.344238  1687.692139  3076.822266  1716.411133    0.326174      1   B1\n",
       "5  2831.766113  1369.652100  2853.090820  1395.864746    0.267860      3   B3\n",
       "6  3001.202881  1690.311279  3090.440186  1716.288818    0.261700     10   R1"
      ]
     },
     "execution_count": 3,
     "metadata": {},
     "output_type": "execute_result"
    }
   ],
   "source": [
    "# Inference\n",
    "results = model(im1, size=3840)  # batch of images\n",
    "\n",
    "# Results\n",
    "results.print()\n",
    "results.save()  # or .show()\n",
    "\n",
    "results.xyxy[0]  # im1 predictions (tensor)\n",
    "results.pandas().xyxy[0]  # im1 predictions (pandas)"
   ]
  }
 ],
 "metadata": {
  "kernelspec": {
   "display_name": "radar",
   "language": "python",
   "name": "python3"
  },
  "language_info": {
   "codemirror_mode": {
    "name": "ipython",
    "version": 3
   },
   "file_extension": ".py",
   "mimetype": "text/x-python",
   "name": "python",
   "nbconvert_exporter": "python",
   "pygments_lexer": "ipython3",
   "version": "3.9.7"
  }
 },
 "nbformat": 4,
 "nbformat_minor": 2
}
